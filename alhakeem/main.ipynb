{
 "cells": [
  {
   "cell_type": "code",
   "execution_count": null,
   "metadata": {},
   "outputs": [],
   "source": [
    "from dotenv import dotenv_values\n",
    "import os\n",
    "import requests\n",
    "import pandas as pd\n",
    "\n",
    "from langchain.chains import RetrievalQA\n",
    "from langchain.document_loaders import TextLoader\n",
    "from langchain.embeddings.openai import OpenAIEmbeddings\n",
    "from langchain.llms import OpenAI,HuggingFaceHub\n",
    "from langchain.text_splitter import CharacterTextSplitter\n",
    "from langchain.vectorstores import Chroma, FAISS\n",
    "from langchain.document_loaders.csv_loader import CSVLoader\n",
    "from langchain.prompts import PromptTemplate\n",
    "from langchain.embeddings import HuggingFaceEmbeddings\n",
    "\n",
    "config = dotenv_values(\".env\")\n",
    "HUGGINGFACEHUB_API_TOKEN = config['HUGGINGFACEHUB_API_TOKEN']\n",
    "os.environ[\"HUGGINGFACEHUB_API_TOKEN\"] = HUGGINGFACEHUB_API_TOKEN\n",
    "\n",
    "# %% Cell 2\n",
    "\n",
    "df = pd.read_csv('./data/goodreads_data.csv').drop(['Unnamed: 0'],axis=1)\n",
    "df = df.assign( genre_len = lambda x:len(x['Genres']))\n",
    "df = df[df['genre_len']>0]\n",
    "df = df[['Book','Genres','Description']]\n",
    "df.to_csv('book_genre.csv',index=False)\n",
    "print(df.head())"
   ]
  }
 ],
 "metadata": {
  "language_info": {
   "name": "python"
  }
 },
 "nbformat": 4,
 "nbformat_minor": 2
}
